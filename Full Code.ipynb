{
 "cells": [
  {
   "cell_type": "markdown",
   "metadata": {},
   "source": [
    "# Full Code"
   ]
  },
  {
   "cell_type": "code",
   "execution_count": null,
   "metadata": {},
   "outputs": [],
   "source": [
    "import pandas as pd\n",
    "from sklearn.tree import DecisionTreeClassifier\n",
    "from sklearn.model_selection import train_test_split\n",
    "from sklearn.metrics import accuracy_score\n",
    "import joblib\n",
    "from sklearn import tree\n",
    "\n",
    "df = pd.read_csv(\"film_data.csv\")\n",
    "\n",
    "X = df.drop(columns=['Favorite_Film_Category'])\n",
    "Y = df['Favorite_Film_Category']\n",
    "\n",
    "X_train, X_test, Y_train, Y_test = train_test_split(X.values, Y.values , test_size = 0.2) # Test size 20% of all data\n",
    "\n",
    "model2 = DecisionTreeClassifier()\n",
    "model2.fit(X_train,Y_train) #model.fit(Features,Target) \n",
    "\n",
    "predictions = model.predict(X_test)\n",
    "\n",
    "score = accuracy_score(Y_test, predictions)\n",
    "print(score)\n",
    "\n",
    "# Persiting allow Model save can Predict later without training\n",
    "joblib.dump(model2, \"film_recommonder.joblib\")\n",
    "\n",
    "model3 = joblib.load(\"film_recommonder.joblib\")\n",
    "predictions = model3.predict( [ [21, 0] ] )\n",
    "print(predictions)\n",
    "\n",
    "tree.export_graphviz(model2,\n",
    "                     out_file=\"film_recommonder_tree.dot\",\n",
    "                     feature_names = [\"Age\", \"Gender\"],\n",
    "                     class_names = sorted(Y.unique()),\n",
    "                     label='all',\n",
    "                     filled=True,\n",
    "                     rounded=True\n",
    "                    )"
   ]
  }
 ],
 "metadata": {
  "language_info": {
   "name": "python"
  }
 },
 "nbformat": 4,
 "nbformat_minor": 2
}
